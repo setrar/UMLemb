{
 "cells": [
  {
   "cell_type": "markdown",
   "id": "f039de4b-7b0f-43fe-a6ae-34e42f9ddaf4",
   "metadata": {},
   "source": [
    "# [Lab #3](https://perso.telecom-paristech.fr/apvrille/UMLEmb/labs.html)\n",
    "\n",
    "Analysis and design of a [space-based embedded system](https://perso.telecom-paristech.fr/apvrille/UMLEmb/ExamUMLEmb_Fall2021.pdf) (Eurecom exam of Fall 2021). GRADED: you have a one week delay to send me your report and model by email (ludovic.apvrille A.T. telecom-paris.fr). \"until\" means until the next Friday, 13:30 - Thales Madrid"
   ]
  },
  {
   "cell_type": "markdown",
   "id": "8ab92b56-d2a3-4749-ac4b-d762952ebce3",
   "metadata": {},
   "source": [
    "## Schedule\n",
    "\n",
    "| Stages | Min | Comments |\n",
    "|-|-|-|\n",
    "| Reqs         | 45  | 6 - 10 reqs |\n",
    "| Analysis     | 45  | UCD: 6 - 10 Use Cases, AD, SD |\n",
    "| Design       | 60  | 4 - 7 blocks |\n",
    "| Verification | 20  | |"
   ]
  },
  {
   "cell_type": "markdown",
   "id": "c433208b-116c-4148-9e5e-ba2c0e8e174a",
   "metadata": {},
   "source": [
    "# References"
   ]
  },
  {
   "cell_type": "code",
   "execution_count": null,
   "id": "5d164d7a-dbc3-4c09-985d-5565e94b92e1",
   "metadata": {},
   "outputs": [],
   "source": []
  }
 ],
 "metadata": {
  "kernelspec": {
   "display_name": "Julia 1.11.1",
   "language": "julia",
   "name": "julia-1.11"
  },
  "language_info": {
   "file_extension": ".jl",
   "mimetype": "application/julia",
   "name": "julia",
   "version": "1.11.1"
  }
 },
 "nbformat": 4,
 "nbformat_minor": 5
}
