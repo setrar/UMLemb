{
 "cells": [
  {
   "cell_type": "markdown",
   "id": "f039de4b-7b0f-43fe-a6ae-34e42f9ddaf4",
   "metadata": {},
   "source": [
    "$$\\Huge\\textbf{Lab 3}$$\n",
    "\n",
    "[Link](https://perso.telecom-paristech.fr/apvrille/UMLEmb/labs.html)\n",
    "\n",
    "Analysis and design of a [space-based embedded system](https://perso.telecom-paristech.fr/apvrille/UMLEmb/ExamUMLEmb_Fall2021.pdf) (Eurecom exam of Fall 2021). GRADED: you have a one week delay to send me your report and model by email (ludovic.apvrille A.T. telecom-paris.fr). \"until\" means until the next Friday, 13:30 - Thales Madrid"
   ]
  },
  {
   "cell_type": "markdown",
   "id": "8ab92b56-d2a3-4749-ac4b-d762952ebce3",
   "metadata": {},
   "source": [
    "## Schedule\n",
    "\n",
    "| Stages | Min | Comments |\n",
    "|-|-|-|\n",
    "| Reqs         | 45  | 6 - 10 reqs |\n",
    "| Analysis     | 45  | UCD: 6 - 10 Use Cases, AD, SD |\n",
    "| Design       | 60  | 4 - 7 blocks |\n",
    "| Verification | 20  | |"
   ]
  },
  {
   "cell_type": "markdown",
   "id": "0551e13d-12ee-4932-adee-fc181eac9dfe",
   "metadata": {},
   "source": [
    "## Objective\n",
    "\n",
    "Your objective is to model the **software** of a space-based embedded system.\n",
    "\n",
    "You have exactly 3 hours to model this system and answer various questions: the time is\n",
    "very short. This means that **you have to make modeling assumptions**. **Keep your diagrams\n",
    "simple and readable**, in particular the analysis diagrams.\n",
    "\n",
    "Your grade takes into account your report and your models. At the end of the exam, reports\n",
    "(in pdf format) and **models** (in TTool format) **must be sent to me by email**, with Alexia\n",
    "Cepero in cc. The report should contain explanations concerning your models, as well as\n",
    "relevant screen captures of models (e.g., interesting simulation traces, formal verification\n",
    "results)."
   ]
  },
  {
   "cell_type": "markdown",
   "id": "611618a6-1177-49d3-9188-b69decd85812",
   "metadata": {},
   "source": [
    "# System specification\n",
    "\n",
    "Again, the system to model is the software running aboard the space-based system described below.\n",
    "\n",
    "## Description\n",
    "### Overall description\n",
    "\n",
    "A ground station needs to regularly monitor the safety data of a space-based system: 3D position, temperature, battery level, fuel quantity. For this, a ground station can send, via radio-frequencies, a TC (_TeleCommand_) to the space-based system. Once received by the RF receiver, the software of the space-based system gets the request for information. Data of TCs are ciphered. Once the software has deciphered data, it stores data in an intermediate buﬀer, and a task to handle this request is triggered. This task builds the answer by reading requested values from sensors. Once the answer packet has been built, it is first enciphered and then sent via a TM (_TeleMetry_) to the ground station, using the RF transmitter.\n",
    "\n",
    "To ensure that the system does not crash, a microcontroller of this system is dedicated to execute a software task that checks, every 10ms, that all other software tasks of the spacebased embedded system are still responsive. For this, a signal is sent to each task. If some of the tasks have not responded to this signal, then the whole system is restarted, apart from the watchdog: the latter is not expected to crash, apart if the battery is too low to power the microcontroller. Obviously, this watchdog task is of prime importance for this reliability of the system.\n",
    "\n",
    "Sometimes, while the software system is computing a TM, another TC is received. To avoid redundancy, the TM under construction is canceled: a new TM corresponding to the latest TC is computed and sent.\n",
    "\n",
    "Last but not least, space-based systems are not well protected against high-energy particles. Such a particle can provoke a bit flip from 0 to 1, or the opposite. The memory is the most sensitive elements of the platform. Therefore, for each block of data the software writes into memory, an error correction code (CRC) of this block has to be computed by the software and stored into memory along with the data block. When this block is read, the corresponding CRC must also be read and checked."
   ]
  },
  {
   "cell_type": "markdown",
   "id": "73518950-10ae-4c3f-a5ad-760f06b6573e",
   "metadata": {},
   "source": [
    "## Assignments\n",
    "\n",
    "#### I. Personal work\n",
    "\n",
    "1. Recopy the following text at the beginning of your report (this is mandatory)\n",
    "\n",
    "$\\large\\textbf{I pledge on my honor that I will not receive }$\n",
    "$\\large\\textbf{any unauthorized help on this exam, }$\n",
    "$\\large\\textbf{that I will not help others in any way }$\n",
    "$\\large\\textbf{on this exam, and that all my answers will }$\n",
    "$\\large\\textbf{be my own personal work.}$\n",
    "\n",
    "#### II. Assumptions\n",
    "\n",
    "1. Your assumptions should be clear. Do list them in the report: that list might evolve\n",
    "according to the models you make afterwards. Make a clear separation between\n",
    "environment and system assumptions. [2 points]\n",
    "\n",
    "#### III. Requirements\n",
    "\n",
    "1. Create a requirement diagram. [3 points]\n",
    "\n",
    "#### IV. Analysis\n",
    "\n",
    "1. Make a use case diagram. [3 points]\n",
    "   \n",
    "2. Continue the analysis in the form you want: activity diagrams, nominal scenario, error\n",
    "scenarios, . . . : you are free to use the diagrams you want. Of course, the idea here is\n",
    "to show important points of the specification. [3 points]\n",
    "\n",
    "#### V. Design and validation\n",
    "\n",
    "1. Make a block diagram. Put the emphasis on which blocks are used to model the system\n",
    "being designed, and which ones are used either to model the environment, or to prove\n",
    "properties (observers). [2 points]\n",
    "\n",
    "2. Draw state machines, and provide a nominal simulation trace, as well as an error trace.\n",
    "[3 points]\n",
    "\n",
    "3. Prove that a TC always result in a TM, apart if another TC is received before sending\n",
    "TM. Last, from requirements, define a property of your choice, and prove whether it is\n",
    "satisfied (or not!). And obviously, explain how you have modeled these two properties [3 points]"
   ]
  },
  {
   "cell_type": "markdown",
   "id": "c433208b-116c-4148-9e5e-ba2c0e8e174a",
   "metadata": {},
   "source": [
    "# References"
   ]
  },
  {
   "attachments": {},
   "cell_type": "markdown",
   "id": "3e221351-721c-45a4-bed4-f093064dbbdf",
   "metadata": {},
   "source": [
    "| Start | Duration | End | Task |\n",
    "|-|-|-|-|\n",
    "| 01:30:00\t| 00:45:00\t| 02:15:00 | Requirements   |\n",
    "| 02:15:00\t| 00:45:00\t| 03:00:00 | Analysis | \n",
    "| 03:00:00\t| 01:00:00\t| 04:00:00 | Design |\n",
    "| 04:00:00\t| 00:20:00\t| 04:20:00 | Verification |\n",
    "\n",
    "| Start | Duration | End | Task |\n",
    "|-|-|-|-|\n",
    "| 09:00:00\t| 00:45:00\t| 09:45:00  | Requirements   |\n",
    "| 09:45:00\t| 00:45:00\t| 10:30:00 | Analysis | \n",
    "| 10:30:00\t| 01:00:00\t| 11:30:00 | Design |\n",
    "| 11:30:00\t| 00:20:00\t| 11:50:00 | Verification |\n"
   ]
  },
  {
   "cell_type": "markdown",
   "id": "e2f1e53a-03f3-4162-bb35-9e2fe29300e0",
   "metadata": {},
   "source": [
    "![images](images/uml_emb_Requirements.png)"
   ]
  },
  {
   "cell_type": "markdown",
   "id": "37cb41fe-df3a-41b4-a8cd-787270171969",
   "metadata": {},
   "source": [
    "![image](images/uml_emb_UC.png)"
   ]
  },
  {
   "cell_type": "code",
   "execution_count": null,
   "id": "2d970fd2-a986-4cb8-aad7-051aad102a01",
   "metadata": {},
   "outputs": [],
   "source": []
  }
 ],
 "metadata": {
  "kernelspec": {
   "display_name": "Julia 1.11.1",
   "language": "julia",
   "name": "julia-1.11"
  },
  "language_info": {
   "file_extension": ".jl",
   "mimetype": "application/julia",
   "name": "julia",
   "version": "1.11.1"
  }
 },
 "nbformat": 4,
 "nbformat_minor": 5
}
